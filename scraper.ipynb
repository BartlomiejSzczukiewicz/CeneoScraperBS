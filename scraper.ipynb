{
 "cells": [
  {
   "attachments": {},
   "cell_type": "markdown",
   "metadata": {},
   "source": [
    "# Ceneo Scraper"
   ]
  },
  {
   "attachments": {},
   "cell_type": "markdown",
   "metadata": {},
   "source": [
    "# Imports"
   ]
  },
  {
   "cell_type": "code",
   "execution_count": null,
   "metadata": {},
   "outputs": [],
   "source": [
    "import requests\n",
    "from bs4 import BeautifulSoup"
   ]
  },
  {
   "attachments": {},
   "cell_type": "markdown",
   "metadata": {},
   "source": [
    "Send request to Ceneo.pl serivce"
   ]
  },
  {
   "cell_type": "code",
   "execution_count": null,
   "metadata": {},
   "outputs": [],
   "source": [
    "product_id = \"108290707\"\n",
    "url = f\"https://www.ceneo.pl/{product_id}\"\n",
    "response = requests.get(url)\n",
    "response.status_code"
   ]
  },
  {
   "attachments": {},
   "cell_type": "markdown",
   "metadata": {},
   "source": [
    "Convert plain text HTML code into DOM structure"
   ]
  },
  {
   "cell_type": "code",
   "execution_count": null,
   "metadata": {},
   "outputs": [],
   "source": [
    "page_dom = BeautifulSoup(response.text, 'html.parser')\n",
    "print(type(page_dom))\n",
    "opinions = page_dom.select('div.js_product-reviews')\n",
    "print(type(opinions))\n",
    "opinion = page_dom.select_one('div.js_product-reviews')\n",
    "print(opinion)"
   ]
  },
  {
   "attachments": {},
   "cell_type": "markdown",
   "metadata": {},
   "source": [
    "## Extract components for single opinion"
   ]
  },
  {
   "attachments": {},
   "cell_type": "markdown",
   "metadata": {},
   "source": [
    "|Component|Selector|Variable|\n",
    "|---------|--------|--------|\n",
    "|opinion ID|['data-entry-id']|opinion_id\n",
    "|opinion’s author|user-post__author-name|author\n",
    "|author’s recommendation|class=\"user-post__author-recomendation\"|recomendation\n",
    "|score expressed in number of stars|user-post__score|stars\n",
    "|opinion’s content|class=\"user-post__content\"|content\n",
    "|list of product advantages| div.review.feature_title--positives ~ div.review.feature_item |pros\n",
    "|list of product disadvantages|  div.review.feature_title--negatives ~ div.review.feature_item |cons\n",
    "|how many users think that opinion was helpful|button.vote-yes[\"data-total-vote\"]|helpful\n",
    "|how many users think that opinion was unhelpful|  button.vote-no[\"data-total-vote\"] |unhelpful\n",
    "|publishing date| span.user-post_published > time::nth-child(1)[\"datetime\"] |publish_date\n",
    "|purchase date| span.user-post_published > time::nth-child(2)[\"datetime\"]  |purchase_date"
   ]
  }
 ],
 "metadata": {
  "kernelspec": {
   "display_name": ".venv",
   "language": "python",
   "name": "python3"
  },
  "language_info": {
   "codemirror_mode": {
    "name": "ipython",
    "version": 3
   },
   "file_extension": ".py",
   "mimetype": "text/x-python",
   "name": "python",
   "nbconvert_exporter": "python",
   "pygments_lexer": "ipython3",
   "version": "3.11.4"
  },
  "orig_nbformat": 4
 },
 "nbformat": 4,
 "nbformat_minor": 2
}
