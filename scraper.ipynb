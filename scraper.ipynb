{
 "cells": [
  {
   "attachments": {},
   "cell_type": "markdown",
   "metadata": {},
   "source": [
    "# Ceneo Scraper"
   ]
  },
  {
   "attachments": {},
   "cell_type": "markdown",
   "metadata": {},
   "source": [
    "## components for single opinion"
   ]
  },
  {
   "attachments": {},
   "cell_type": "markdown",
   "metadata": {},
   "source": [
    "|Component|Selector|Variable|\n",
    "|---------|--------|--------|\n",
    "|opinion ID|['data-entry-id']|opinion_id\n",
    "|opinion’s author|user-post__author-name|author\n",
    "|author’s recommendation|span.user-post__author-recomendation > em|recomendation\n",
    "|score expressed in number of stars|user-post__score|stars\n",
    "|opinion’s content|class=\"user-post__content\"|content\n",
    "|list of product advantages| div.review.feature_title--positives ~ div.review.feature_item |pros\n",
    "|list of product disadvantages|  div.review.feature_title--negatives ~ div.review.feature_item |cons\n",
    "|how many users think that opinion was helpful|button.vote-yes[\"data-total-vote\"]|helpful\n",
    "|how many users think that opinion was unhelpful|  button.vote-no[\"data-total-vote\"] |unhelpful\n",
    "|publishing date| span.user-post_published > time::nth-child(1)[\"datetime\"] |publish_date\n",
    "|purchase date| span.user-post_published > time::nth-child(2)[\"datetime\"]  |purchase_date"
   ]
  },
  {
   "attachments": {},
   "cell_type": "markdown",
   "metadata": {},
   "source": [
    "# Imports"
   ]
  },
  {
   "cell_type": "code",
   "execution_count": 65,
   "metadata": {},
   "outputs": [],
   "source": [
    "import requests\n",
    "from bs4 import BeautifulSoup\n",
    "import os\n",
    "import json"
   ]
  },
  {
   "attachments": {},
   "cell_type": "markdown",
   "metadata": {},
   "source": [
    "## URL address for the first page with opinions"
   ]
  },
  {
   "cell_type": "code",
   "execution_count": 66,
   "metadata": {},
   "outputs": [],
   "source": [
    "product_id = \"108290707\"\n",
    "url = f\"https://www.ceneo.pl/{product_id}\"\n",
    "all_opinions = []"
   ]
  },
  {
   "cell_type": "markdown",
   "metadata": {},
   "source": [
    "## Definition of extraction function\n"
   ]
  },
  {
   "cell_type": "code",
   "execution_count": 67,
   "metadata": {},
   "outputs": [],
   "source": [
    "def extract_content(ancestor, selector, attribute=None, return_list=False):\n",
    "    if selector:\n",
    "        if return_list:\n",
    "            if attribute:\n",
    "                return [tag.text.strip() for tag in ancestor.select(selector)]\n",
    "            return [tag.text.strip() for tag in ancestor.select(selector)]\n",
    "        if attribute:\n",
    "            try:\n",
    "                return ancestor.select_one(selector)[attribute].strip()\n",
    "            except TypeError:\n",
    "                return None\n",
    "        try:\n",
    "            return ancestor.select_one(selector).text.strip()\n",
    "        except AttributeError:\n",
    "            return None\n",
    "    if attribute:\n",
    "        return ancestor[attribute]\n",
    "    return ancestor.text.strip()"
   ]
  },
  {
   "attachments": {},
   "cell_type": "markdown",
   "metadata": {},
   "source": [
    "## Dictionary with opinion structure"
   ]
  },
  {
   "cell_type": "code",
   "execution_count": 68,
   "metadata": {},
   "outputs": [],
   "source": [
    "selectors = {\n",
    "\"opinion_id\" : (None, \"data-entry-id\"),\n",
    "\"author\": ( \"span.user-post__author-name\",),\n",
    "\"recommendation\" : ( \"span.user-post__author-recomendation > em\",),\n",
    "\"score\" : ( \"span.user-post__score-count\",),\n",
    "\"content\" : (\"div.user-post__text\",),\n",
    "\"pros\" : ( \"div.review-feature__title--positives ~ div.review-feature__item\", None, True),\n",
    "\"cons\" :( \"div.review-feature__title--negatives ~ div.review-feature__item\", None, True),\n",
    "\"helpful\" : ( \"button.vote-yes > span\",),\n",
    "\"unhelpful\" : (\"button.vote-no > span\",),\n",
    "\"post_date\" : ( \"span.user-post__published > time:nth-child(1)\",\"datetime\"),\n",
    "\"purchase_date\" : (\"span.user-post__published > time:nth-child(2)\",\"datetime\"),\n",
    "}"
   ]
  },
  {
   "cell_type": "markdown",
   "metadata": {},
   "source": [
    "## Transformation function"
   ]
  },
  {
   "cell_type": "code",
   "execution_count": 72,
   "metadata": {},
   "outputs": [],
   "source": [
    "def score(score:str) -> float:\n",
    "    s = score.split(\"/\")\n",
    "    return float(s[0].replace(\",\",\".\"))/float(s[1])"
   ]
  },
  {
   "cell_type": "markdown",
   "metadata": {},
   "source": [
    "## Dictionary with transformations"
   ]
  },
  {
   "cell_type": "code",
   "execution_count": 74,
   "metadata": {},
   "outputs": [],
   "source": [
    "transformations = {\n",
    "    \"recomendation\": lambda r: True if r == \"Polecam\" else False if r == \"Nie polecam\" else None,\n",
    "    \"score\": score,\n",
    "    \"helpful\": int,\n",
    "    \"unhelpful\": int\n",
    "}"
   ]
  },
  {
   "attachments": {},
   "cell_type": "markdown",
   "metadata": {},
   "source": [
    "## Extract all opinions about product"
   ]
  },
  {
   "cell_type": "code",
   "execution_count": 77,
   "metadata": {},
   "outputs": [],
   "source": [
    "while(url):\n",
    "    response = requests.get(url)\n",
    "    response.status_code\n",
    "    page_dom = BeautifulSoup(response.text, 'html.parser')\n",
    "    opinions = page_dom.select('div.js_product-review')\n",
    "    for opinion in opinions:\n",
    "        single_opinion = {\n",
    "            key : extract_content(opinion, *value)\n",
    "                for key, value in selectors.items()\n",
    "        }\n",
    "        for key, value in transformations.items():\n",
    "            single_opinion[key] = value(single_opinion[key])\n",
    "        all_opinions.append(single_opinion)\n",
    "    try:\n",
    "        url = \"https://www.ceneo.pl\"+extract_content(page_dom,\"a.pagination__next\",'href')\n",
    "    except TypeError:\n",
    "        url = None"
   ]
  },
  {
   "cell_type": "code",
   "execution_count": 71,
   "metadata": {},
   "outputs": [],
   "source": [
    "if not os.path.exists(\"opinions\"):\n",
    "    os.mkdir(\"opinions\")\n",
    "with open(f'opinions/{product_id}.json','w',encoding='UTF-8') as jf:\n",
    "    json.dump(all_opinions, jf, indent=4, ensure_ascii=False)"
   ]
  }
 ],
 "metadata": {
  "kernelspec": {
   "display_name": ".venv",
   "language": "python",
   "name": "python3"
  },
  "language_info": {
   "codemirror_mode": {
    "name": "ipython",
    "version": 3
   },
   "file_extension": ".py",
   "mimetype": "text/x-python",
   "name": "python",
   "nbconvert_exporter": "python",
   "pygments_lexer": "ipython3",
   "version": "3.11.4"
  },
  "orig_nbformat": 4
 },
 "nbformat": 4,
 "nbformat_minor": 2
}
